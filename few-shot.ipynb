{
 "cells": [
  {
   "cell_type": "code",
   "execution_count": 1,
   "metadata": {},
   "outputs": [],
   "source": [
    "from langchain_core.prompts.few_shot import FewShotPromptTemplate\n",
    "from langchain_core.prompts.prompt import PromptTemplate"
   ]
  },
  {
   "cell_type": "code",
   "execution_count": 2,
   "metadata": {},
   "outputs": [],
   "source": [
    "examples = [\n",
    "  {\n",
    "    \"question\": \"Quem viveu mais, Muhammad Ali ou Alan Turing?\",\n",
    "    \"answer\":\n",
    "\"\"\"\n",
    "São necessárias perguntas de acompanhamento aqui? Sim.\n",
    "Acompanhamento: Qual era a idade de Muhammad Ali quando ele morreu?\n",
    "Resposta intermediária: Muhammad Ali tinha 74 anos quando morreu.\n",
    "Acompanhamento: Qual era a idade de Alan Turing quando ele morreu?\n",
    "Resposta intermediária: Alan Turing tinha 41 anos de idade quando morreu.\n",
    "Portanto, a resposta final é: Muhammad Ali\n",
    "\"\"\"\n",
    "  },\n",
    "  {\n",
    "    \"question\": \"Quando nasceu o fundador do craigslist?\",\n",
    "    \"answer\":\n",
    "\"\"\"\n",
    "São necessárias perguntas complementares aqui? Sim.\n",
    "Acompanhamento: Quem foi o fundador da craigslist?\n",
    "Resposta intermediária: A Craigslist foi fundada por Craig Newmark.\n",
    "Acompanhamento: Quando Craig Newmark nasceu?\n",
    "Resposta intermediária: Craig Newmark nasceu em 6 de dezembro de 1952.\n",
    "Portanto, a resposta final é: 6 de dezembro de 1952\n",
    "\"\"\"\n",
    "  },\n",
    "]"
   ]
  },
  {
   "cell_type": "code",
   "execution_count": 6,
   "metadata": {},
   "outputs": [],
   "source": [
    "example_prompt = PromptTemplate(input_variables=['question', 'answer'], template=\"Pergunta: {question}\\n{answer}\")"
   ]
  },
  {
   "cell_type": "code",
   "execution_count": 10,
   "metadata": {},
   "outputs": [],
   "source": [
    "few_shot_prompt = FewShotPromptTemplate(\n",
    "  examples=examples,\n",
    "  example_prompt=example_prompt,\n",
    "  suffix=\"Pergunta: {input}\",\n",
    "  input_variables=[\"input\"]\n",
    ")"
   ]
  },
  {
   "cell_type": "code",
   "execution_count": 11,
   "metadata": {},
   "outputs": [
    {
     "name": "stdout",
     "output_type": "stream",
     "text": [
      "Pergunta: Quem viveu mais, Muhammad Ali ou Alan Turing?\n",
      "\n",
      "São necessárias perguntas de acompanhamento aqui? Sim.\n",
      "Acompanhamento: Qual era a idade de Muhammad Ali quando ele morreu?\n",
      "Resposta intermediária: Muhammad Ali tinha 74 anos quando morreu.\n",
      "Acompanhamento: Qual era a idade de Alan Turing quando ele morreu?\n",
      "Resposta intermediária: Alan Turing tinha 41 anos de idade quando morreu.\n",
      "Portanto, a resposta final é: Muhammad Ali\n",
      "\n",
      "\n",
      "Pergunta: Quando nasceu o fundador do craigslist?\n",
      "\n",
      "São necessárias perguntas complementares aqui? Sim.\n",
      "Acompanhamento: Quem foi o fundador da craigslist?\n",
      "Resposta intermediária: A Craigslist foi fundada por Craig Newmark.\n",
      "Acompanhamento: Quando Craig Newmark nasceu?\n",
      "Resposta intermediária: Craig Newmark nasceu em 6 de dezembro de 1952.\n",
      "Portanto, a resposta final é: 6 de dezembro de 1952\n",
      "\n",
      "\n",
      "Pergunta: Quem ganhou mais prêmios, Emmy, Mad Men ou Sopranos?\n"
     ]
    }
   ],
   "source": [
    "print(few_shot_prompt.format(input=\"Quem ganhou mais prêmios, Emmy, Mad Men ou Sopranos?\"))"
   ]
  },
  {
   "cell_type": "code",
   "execution_count": 14,
   "metadata": {},
   "outputs": [],
   "source": [
    "from langchain_openai import ChatOpenAI\n",
    "\n",
    "llm = ChatOpenAI(\n",
    "    model=\"gpt-4o-mini\",\n",
    "    temperature=0,\n",
    ")"
   ]
  },
  {
   "cell_type": "code",
   "execution_count": 12,
   "metadata": {},
   "outputs": [],
   "source": [
    "from langchain_core.prompts import ChatPromptTemplate\n",
    "\n",
    "chat_prompt = ChatPromptTemplate.from_template(few_shot_prompt.format(input=\"Quem ganhou mais prêmios, Emmy, Mad Men ou Sopranos?\"))"
   ]
  },
  {
   "cell_type": "code",
   "execution_count": 15,
   "metadata": {},
   "outputs": [],
   "source": [
    "result = llm(chat_prompt.format_messages())"
   ]
  },
  {
   "cell_type": "code",
   "execution_count": 16,
   "metadata": {},
   "outputs": [
    {
     "name": "stdout",
     "output_type": "stream",
     "text": [
      "São necessárias perguntas complementares aqui? Sim.  \n",
      "Acompanhamento: Quantos prêmios Emmy \"Mad Men\" ganhou?  \n",
      "Resposta intermediária: \"Mad Men\" ganhou 16 prêmios Emmy.  \n",
      "Acompanhamento: Quantos prêmios Emmy \"The Sopranos\" ganhou?  \n",
      "Resposta intermediária: \"The Sopranos\" ganhou 21 prêmios Emmy.  \n",
      "Portanto, a resposta final é: \"The Sopranos\" ganhou mais prêmios Emmy.\n"
     ]
    }
   ],
   "source": [
    "print(result.content)"
   ]
  },
  {
   "cell_type": "code",
   "execution_count": 17,
   "metadata": {},
   "outputs": [],
   "source": [
    "from langchain_core.example_selectors import LengthBasedExampleSelector"
   ]
  },
  {
   "cell_type": "code",
   "execution_count": 18,
   "metadata": {},
   "outputs": [],
   "source": [
    "example_selector = LengthBasedExampleSelector(\n",
    "  examples=examples,\n",
    "  example_prompt=example_prompt,\n",
    "  max_length=25,\n",
    ")"
   ]
  },
  {
   "cell_type": "code",
   "execution_count": 19,
   "metadata": {},
   "outputs": [],
   "source": [
    "few_shot_selector_prompt = FewShotPromptTemplate(\n",
    "  example_selector=example_selector,\n",
    "  example_prompt=example_prompt,\n",
    "  suffix=\"Pergunta: {input}\",\n",
    "  input_variables=[\"input\"]\n",
    ")"
   ]
  },
  {
   "cell_type": "code",
   "execution_count": 20,
   "metadata": {},
   "outputs": [
    {
     "name": "stdout",
     "output_type": "stream",
     "text": [
      "Pergunta: Quem ganhou mais prêmios Emmy, Mad Men ou Sopranos?\n"
     ]
    }
   ],
   "source": [
    "print(few_shot_selector_prompt.format(input=\"Quem ganhou mais prêmios Emmy, Mad Men ou Sopranos?\"))"
   ]
  },
  {
   "cell_type": "code",
   "execution_count": null,
   "metadata": {},
   "outputs": [],
   "source": []
  }
 ],
 "metadata": {
  "kernelspec": {
   "display_name": ".venv",
   "language": "python",
   "name": "python3"
  },
  "language_info": {
   "codemirror_mode": {
    "name": "ipython",
    "version": 3
   },
   "file_extension": ".py",
   "mimetype": "text/x-python",
   "name": "python",
   "nbconvert_exporter": "python",
   "pygments_lexer": "ipython3",
   "version": "3.10.12"
  }
 },
 "nbformat": 4,
 "nbformat_minor": 2
}
