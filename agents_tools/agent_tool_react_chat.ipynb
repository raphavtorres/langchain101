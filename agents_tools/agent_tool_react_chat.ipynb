{
 "cells": [
  {
   "cell_type": "code",
   "execution_count": null,
   "metadata": {},
   "outputs": [],
   "source": [
    "from dotenv import load_dotenv\n",
    "\n",
    "load_dotenv()"
   ]
  },
  {
   "cell_type": "code",
   "execution_count": null,
   "metadata": {},
   "outputs": [],
   "source": [
    "def get_current_time(*args, **kwargs):\n",
    "  \"\"\"Returns the current time in H:MM AM/PM format\"\"\"\n",
    "  import datetime\n",
    "\n",
    "  now = datetime.datetime.now()\n",
    "  return now.strftime(\"%I:%M %p\")"
   ]
  },
  {
   "cell_type": "code",
   "execution_count": null,
   "metadata": {},
   "outputs": [],
   "source": [
    "%pip install wikipedia"
   ]
  },
  {
   "cell_type": "code",
   "execution_count": 4,
   "metadata": {},
   "outputs": [],
   "source": [
    "def search_wikipedia(query):\n",
    "  \"\"\"Searches Wikipedia and returns the summary of the first result\"\"\"\n",
    "  from wikipedia import summary\n",
    "\n",
    "  try:\n",
    "    return summary(query, sentences=2)\n",
    "  except:\n",
    "    return \"I couldn't find any information on that.\""
   ]
  },
  {
   "cell_type": "code",
   "execution_count": 7,
   "metadata": {},
   "outputs": [],
   "source": [
    "from langchain_core.tools import Tool\n",
    "\n",
    "tools = [\n",
    "  Tool(\n",
    "    name=\"Time\",\n",
    "    func=get_current_time,\n",
    "    description=\"Useful for when you need to know the current time.\"\n",
    "  ),\n",
    "  Tool(\n",
    "    name=\"Wikipedia\",\n",
    "    func=search_wikipedia,\n",
    "    description=\"Useful for when you need to search information about a topic.\"\n",
    "  ),\n",
    "]"
   ]
  },
  {
   "cell_type": "code",
   "execution_count": 9,
   "metadata": {},
   "outputs": [],
   "source": [
    "# set the LANGCHAIN_API_KEY environment variable (create key in settings)\n",
    "from langchain import hub\n",
    "prompt = hub.pull(\"hwchase17/structured-chat-agent:ea510f70\")"
   ]
  },
  {
   "cell_type": "code",
   "execution_count": 10,
   "metadata": {},
   "outputs": [],
   "source": [
    "from langchain_openai import ChatOpenAI\n",
    "\n",
    "llm = ChatOpenAI(\n",
    "  model=\"gpt-4o-mini\",\n",
    "  temperature=0,\n",
    ")"
   ]
  },
  {
   "cell_type": "code",
   "execution_count": 13,
   "metadata": {},
   "outputs": [],
   "source": [
    "from langchain.memory import ConversationBufferMemory\n",
    "\n",
    "memory = ConversationBufferMemory(memory_key=\"chat_history\", return_messages=True)"
   ]
  },
  {
   "cell_type": "code",
   "execution_count": 14,
   "metadata": {},
   "outputs": [],
   "source": [
    "from langchain.agents import create_structured_chat_agent\n",
    "\n",
    "agent = create_structured_chat_agent(llm=llm, tools=tools, prompt=prompt)"
   ]
  },
  {
   "cell_type": "code",
   "execution_count": 15,
   "metadata": {},
   "outputs": [],
   "source": [
    "from langchain.agents import AgentExecutor\n",
    "\n",
    "agent_executor = AgentExecutor.from_agent_and_tools(\n",
    "  agent=agent,\n",
    "  tools=tools,\n",
    "  verbose=True,\n",
    "  memory=memory,  # use the conversation memory to maintain context\n",
    "  handle_parsing_errors=True,\n",
    ")"
   ]
  },
  {
   "cell_type": "code",
   "execution_count": 16,
   "metadata": {},
   "outputs": [],
   "source": [
    "initial_message = \"You are an AI assistant that can provide helpful answers using available tools.\\nIf you are unable to answer, you can use the following tools: Time and Wikipedia.\""
   ]
  },
  {
   "cell_type": "code",
   "execution_count": 19,
   "metadata": {},
   "outputs": [],
   "source": [
    "from langchain_core.messages import SystemMessage\n",
    "\n",
    "memory.chat_memory.add_message(SystemMessage(content=initial_message))"
   ]
  },
  {
   "cell_type": "code",
   "execution_count": 20,
   "metadata": {},
   "outputs": [
    {
     "name": "stdout",
     "output_type": "stream",
     "text": [
      "\n",
      "\n",
      "\u001b[1m> Entering new AgentExecutor chain...\u001b[0m\n",
      "\u001b[32;1m\u001b[1;3mThought: I need to find out who the current president of Brazil is and their age. I will use Wikipedia to get the most accurate and up-to-date information.\n",
      "\n",
      "Action:\n",
      "```\n",
      "{\n",
      "  \"action\": \"Wikipedia\",\n",
      "  \"action_input\": \"current president of Brazil\"\n",
      "}\n",
      "```\u001b[0m\u001b[33;1m\u001b[1;3mThe president of Brazil (Portuguese: presidente do Brasil), officially the president of the Federative Republic of Brazil (Portuguese: presidente da República Federativa do Brasil) or simply the President of the Republic, is the head of state and head of government of Brazil. The president leads the executive branch of the federal government and is the commander-in-chief of the Brazilian Armed Forces.\u001b[0m\u001b[32;1m\u001b[1;3mAction:\n",
      "```\n",
      "{\n",
      "  \"action\": \"Wikipedia\",\n",
      "  \"action_input\": \"current president of Brazil 2023\"\n",
      "}\n",
      "```\u001b[0m\u001b[33;1m\u001b[1;3mThe president of Brazil (Portuguese: presidente do Brasil), officially the president of the Federative Republic of Brazil (Portuguese: presidente da República Federativa do Brasil) or simply the President of the Republic, is the head of state and head of government of Brazil. The president leads the executive branch of the federal government and is the commander-in-chief of the Brazilian Armed Forces.\u001b[0m\u001b[32;1m\u001b[1;3mAction:\n",
      "```\n",
      "{\n",
      "  \"action\": \"Wikipedia\",\n",
      "  \"action_input\": \"Luiz Inácio Lula da Silva age\"\n",
      "}\n",
      "```\u001b[0m\u001b[33;1m\u001b[1;3mLuiz Inácio Lula da Silva (Brazilian Portuguese: [luˈiz iˈnasju ˈlulɐ dɐ ˈsiwvɐ] ; born Luiz Inácio da Silva; 27 October 1945), also known as Lula da Silva or simply Lula, is a Brazilian politician who is the 39th and current president of Brazil since 2023. A member of the Workers' Party, Lula was also the 35th president from 2003 to 2011.\u001b[0m\u001b[32;1m\u001b[1;3mAction:\n",
      "```\n",
      "{\n",
      "  \"action\": \"Final Answer\",\n",
      "  \"action_input\": \"The current president of Brazil is Luiz Inácio Lula da Silva, born on October 27, 1945, making him 77 years old as of now.\"\n",
      "}\n",
      "```\u001b[0m\n",
      "\n",
      "\u001b[1m> Finished chain.\u001b[0m\n",
      "Bot:  The current president of Brazil is Luiz Inácio Lula da Silva, born on October 27, 1945, making him 77 years old as of now.\n",
      "\n",
      "\n",
      "\u001b[1m> Entering new AgentExecutor chain...\u001b[0m\n",
      "\u001b[32;1m\u001b[1;3m```\n",
      "{\n",
      "  \"action\": \"Final Answer\",\n",
      "  \"action_input\": \"The current president of Brazil is Luiz Inácio Lula da Silva, who is 77 years old.\"\n",
      "}\n",
      "```\u001b[0m\n",
      "\n",
      "\u001b[1m> Finished chain.\u001b[0m\n",
      "Bot:  The current president of Brazil is Luiz Inácio Lula da Silva, who is 77 years old.\n"
     ]
    }
   ],
   "source": [
    "from langchain_core.messages import HumanMessage, AIMessage\n",
    "\n",
    "while True:\n",
    "  user_input = input(\"User: \")\n",
    "  if user_input.lower() == \"exit\":\n",
    "    break\n",
    "\n",
    "  # adding the user's input message to the conversation memory\n",
    "  memory.chat_memory.add_message(HumanMessage(content=user_input))\n",
    "\n",
    "  # Invoke the agent with the user input and the current chat history\n",
    "  response = agent_executor.invoke({\"input\": user_input})\n",
    "  print(\"Bot: \", response[\"output\"])\n",
    "\n",
    "  # addint the agent's response to the conversation memory\n",
    "  memory.chat_memory.add_message(AIMessage(content=response['output']))"
   ]
  },
  {
   "cell_type": "code",
   "execution_count": null,
   "metadata": {},
   "outputs": [],
   "source": []
  }
 ],
 "metadata": {
  "kernelspec": {
   "display_name": ".venv",
   "language": "python",
   "name": "python3"
  },
  "language_info": {
   "codemirror_mode": {
    "name": "ipython",
    "version": 3
   },
   "file_extension": ".py",
   "mimetype": "text/x-python",
   "name": "python",
   "nbconvert_exporter": "python",
   "pygments_lexer": "ipython3",
   "version": "3.12.4"
  }
 },
 "nbformat": 4,
 "nbformat_minor": 2
}
