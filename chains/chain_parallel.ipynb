{
 "cells": [
  {
   "cell_type": "code",
   "execution_count": 1,
   "metadata": {},
   "outputs": [],
   "source": [
    "from langchain_openai import ChatOpenAI\n",
    "\n",
    "llm = ChatOpenAI(\n",
    "  model=\"gpt-4o-mini\",\n",
    "  temperature=0,\n",
    ")"
   ]
  },
  {
   "cell_type": "code",
   "execution_count": 4,
   "metadata": {},
   "outputs": [],
   "source": [
    "from langchain_core.prompts import ChatPromptTemplate\n",
    "\n",
    "prompt_template = ChatPromptTemplate.from_messages(\n",
    "  [\n",
    "    (\"system\", \"You are an expert product reviewer.\"),\n",
    "    (\"human\", \"List the main features of the product {product_name}.\"),\n",
    "  ]\n",
    ")"
   ]
  },
  {
   "cell_type": "code",
   "execution_count": 5,
   "metadata": {},
   "outputs": [],
   "source": [
    "def analyze_pros(features):\n",
    "  pros_template = ChatPromptTemplate.from_messages(\n",
    "    [\n",
    "      (\"system\", \"You are an expert product reviewer.\"),\n",
    "      (\"human\", \"Given these features: {features}, list the pros of these features.\"),\n",
    "    ]\n",
    "  )\n",
    "  return pros_template.format_prompt(features=features)"
   ]
  },
  {
   "cell_type": "code",
   "execution_count": 6,
   "metadata": {},
   "outputs": [],
   "source": [
    "def analyze_cons(features):\n",
    "  cons_template = ChatPromptTemplate.from_messages(\n",
    "    [\n",
    "      (\"system\", \"You are an expert product reviewer.\"),\n",
    "      (\"human\", \"Given these features: {features}, list the cons of these features.\"),\n",
    "    ]\n",
    "  )\n",
    "  return cons_template.format_prompt(features=features)"
   ]
  },
  {
   "cell_type": "code",
   "execution_count": 7,
   "metadata": {},
   "outputs": [],
   "source": [
    "def combine_pros_cons(pros, cons):\n",
    "  return f\"Pros:\\n{pros}\\n\\nCons:\\n{cons}\""
   ]
  },
  {
   "cell_type": "code",
   "execution_count": 10,
   "metadata": {},
   "outputs": [],
   "source": [
    "from langchain_core.runnables import RunnableLambda\n",
    "from langchain_core.output_parsers import StrOutputParser\n",
    "\n",
    "pros_branch_chain = (\n",
    "  RunnableLambda(lambda x: analyze_pros(x)) | llm | StrOutputParser()\n",
    ")"
   ]
  },
  {
   "cell_type": "code",
   "execution_count": 11,
   "metadata": {},
   "outputs": [],
   "source": [
    "cons_branch_chain = (\n",
    "  RunnableLambda(lambda x: analyze_cons(x)) | llm | StrOutputParser()\n",
    ")"
   ]
  },
  {
   "cell_type": "code",
   "execution_count": 12,
   "metadata": {},
   "outputs": [],
   "source": [
    "from langchain_core.runnables import RunnableParallel\n",
    "chain = (\n",
    "  prompt_template\n",
    "  | llm\n",
    "  | StrOutputParser()\n",
    "  | RunnableParallel(branches={\"pros\": pros_branch_chain, \"cons\": cons_branch_chain})\n",
    "  | RunnableLambda(lambda x: combine_pros_cons(x[\"branches\"][\"pros\"], x[\"branches\"][\"cons\"]))\n",
    ")"
   ]
  },
  {
   "cell_type": "code",
   "execution_count": 13,
   "metadata": {},
   "outputs": [
    {
     "name": "stdout",
     "output_type": "stream",
     "text": [
      "Pros:\n",
      "The MacBook Pro's features offer numerous advantages, particularly for professionals and power users. Here are the pros associated with each feature:\n",
      "\n",
      "1. **Display**:\n",
      "   - **Retina Display with True Tone**: Provides stunning visuals with accurate color representation, making it ideal for graphic design, photo editing, and video production.\n",
      "   - **High Resolution**: The high pixel density ensures sharp images and text, enhancing the overall viewing experience.\n",
      "   - **P3 Wide Color Gamut**: Delivers vibrant and true-to-life colors, which is essential for creative work.\n",
      "   - **ProMotion Technology**: The 120Hz refresh rate allows for smoother scrolling and responsiveness, improving user experience during tasks like gaming or video editing.\n",
      "\n",
      "2. **Processor**:\n",
      "   - **Apple Silicon**: Offers exceptional performance and efficiency, allowing for faster processing and better battery life compared to traditional Intel processors.\n",
      "   - **Multi-core CPUs and GPUs**: Provides the power needed for demanding applications, such as 3D rendering and software development.\n",
      "\n",
      "3. **Memory and Storage**:\n",
      "   - **Unified Memory Architecture**: Enhances performance by allowing the CPU and GPU to access the same memory pool, reducing latency and improving speed.\n",
      "   - **High-speed SSD Options**: Fast storage speeds lead to quicker boot times, application launches, and file transfers, enhancing productivity.\n",
      "\n",
      "4. **Battery Life**:\n",
      "   - **Long Battery Life**: Up to 20 hours of usage means less time tethered to a power outlet, making it ideal for professionals on the go.\n",
      "   - **Fast Charging Capabilities**: Quick recharging allows users to get back to work faster, minimizing downtime.\n",
      "\n",
      "5. **Keyboard and Trackpad**:\n",
      "   - **Magic Keyboard**: The refined scissor mechanism provides a comfortable and responsive typing experience, reducing fatigue during long work sessions.\n",
      "   - **Large Force Touch Trackpad**: Offers precise control and supports a variety of gestures, enhancing productivity and ease of use.\n",
      "\n",
      "6. **Ports and Connectivity**:\n",
      "   - **Multiple Thunderbolt 4 Ports**: High-speed data transfer and connectivity options allow for versatile use with various peripherals and external displays.\n",
      "   - **HDMI Port and SD Card Slot**: Convenient for photographers and videographers who need to transfer files quickly without additional adapters.\n",
      "   - **MagSafe 3 Charging Port**: Provides a secure and easy way to charge the laptop, reducing the risk of accidental disconnections.\n",
      "\n",
      "7. **Audio and Video**:\n",
      "   - **High-Fidelity Six-Speaker Sound System**: Delivers immersive audio quality, making it great for media consumption and creative work.\n",
      "   - **Studio-Quality Microphone Array**: Ensures clear audio capture for video calls and recordings, enhancing communication quality.\n",
      "   - **1080p FaceTime HD Camera**: Improved video quality for virtual meetings and calls, making it suitable for professional use.\n",
      "\n",
      "8. **Operating System**:\n",
      "   - **macOS Optimization**: Seamless integration with Apple’s ecosystem enhances productivity and user experience, especially for those using multiple Apple devices.\n",
      "\n",
      "9. **Design and Build**:\n",
      "   - **Sleek Aluminum Chassis**: Not only looks professional but also provides durability and a premium feel.\n",
      "   - **Lightweight and Portable**: Easy to carry, making it suitable for professionals who travel frequently.\n",
      "\n",
      "10. **Security Features**:\n",
      "    - **Touch ID**: Provides quick and secure authentication, enhancing user convenience and security.\n",
      "    - **Integrated Security Features**: Protects sensitive data and ensures a secure computing environment, which is crucial for professionals handling confidential information.\n",
      "\n",
      "Overall, the MacBook Pro's features combine to create a powerful, efficient, and user-friendly laptop that meets the needs of demanding users across various fields.\n",
      "\n",
      "Cons:\n",
      "While the MacBook Pro is widely regarded as a high-performance laptop with numerous advantages, there are some potential drawbacks associated with its features. Here are the cons of the features listed:\n",
      "\n",
      "1. **Display**:\n",
      "   - **Price**: The high-resolution Retina display can contribute to the overall cost of the laptop, making it less accessible for budget-conscious consumers.\n",
      "   - **Reflectivity**: The glossy finish of the display can lead to glare in bright environments, which may hinder visibility.\n",
      "\n",
      "2. **Processor**:\n",
      "   - **Compatibility**: Some legacy software and applications may not be fully optimized for Apple Silicon, potentially leading to performance issues or the need for workarounds.\n",
      "   - **Upgradeability**: The integrated design of Apple Silicon means that users cannot upgrade the CPU or GPU after purchase.\n",
      "\n",
      "3. **Memory and Storage**:\n",
      "   - **Cost of Upgrades**: Upgrading memory and storage at the time of purchase can significantly increase the price, and options for higher capacities can be quite expensive.\n",
      "   - **Non-User-Replaceable**: The unified memory and SSD are soldered onto the motherboard, making it impossible for users to upgrade or replace them later.\n",
      "\n",
      "4. **Battery Life**:\n",
      "   - **Real-World Usage**: While advertised battery life can reach up to 20 hours, actual usage may vary significantly based on tasks, potentially leading to shorter battery life during intensive workloads.\n",
      "   - **Charging Time**: Although fast charging is available, it still requires a compatible USB-C power adapter, which may not be included with all models.\n",
      "\n",
      "5. **Keyboard and Trackpad**:\n",
      "   - **Key Travel**: Some users may find the key travel on the Magic Keyboard to be less satisfying compared to traditional mechanical keyboards.\n",
      "   - **Trackpad Size**: The large trackpad may be prone to accidental touches, especially for users who prefer using a mouse.\n",
      "\n",
      "6. **Ports and Connectivity**:\n",
      "   - **Limited Port Variety**: While Thunderbolt 4 ports are versatile, the lack of traditional USB-A ports, Ethernet, or HDMI on some models may require users to invest in adapters.\n",
      "   - **Port Placement**: The placement of ports can be inconvenient for some users, especially when connecting multiple devices.\n",
      "\n",
      "7. **Audio and Video**:\n",
      "   - **Microphone Quality**: While the microphone array is studio-quality, it may still not match the performance of dedicated external microphones for professional audio recording.\n",
      "   - **Camera Limitations**: The 1080p FaceTime HD camera, while improved, may still fall short of the quality offered by some external webcams, especially in low-light conditions.\n",
      "\n",
      "8. **Operating System**:\n",
      "   - **Software Ecosystem**: macOS may not support certain applications or games that are available on Windows, limiting options for some users.\n",
      "   - **Learning Curve**: Users transitioning from Windows may face a learning curve when adapting to macOS.\n",
      "\n",
      "9. **Design and Build**:\n",
      "   - **Durability Concerns**: The sleek aluminum chassis, while aesthetically pleasing, can be prone to scratches and dents if not handled carefully.\n",
      "   - **Weight**: Although portable, the MacBook Pro can still be heavier than some ultrabooks, which may be a consideration for frequent travelers.\n",
      "\n",
      "10. **Security Features**:\n",
      "    - **Touch ID Limitations**: Touch ID may not work with all applications or services, which could be inconvenient for some users.\n",
      "    - **Privacy Concerns**: Some users may have concerns about the data collected by Apple for security features, such as biometric data.\n",
      "\n",
      "Overall, while the MacBook Pro offers a robust set of features, potential buyers should weigh these cons against their specific needs and preferences to determine if it is the right choice for them.\n"
     ]
    }
   ],
   "source": [
    "print(chain.invoke({\"product_name\": \"MacBook Pro\"}))"
   ]
  },
  {
   "cell_type": "code",
   "execution_count": null,
   "metadata": {},
   "outputs": [],
   "source": []
  }
 ],
 "metadata": {
  "kernelspec": {
   "display_name": "torreskernel",
   "language": "python",
   "name": "torreskernel"
  },
  "language_info": {
   "codemirror_mode": {
    "name": "ipython",
    "version": 3
   },
   "file_extension": ".py",
   "mimetype": "text/x-python",
   "name": "python",
   "nbconvert_exporter": "python",
   "pygments_lexer": "ipython3",
   "version": "3.10.12"
  }
 },
 "nbformat": 4,
 "nbformat_minor": 2
}
