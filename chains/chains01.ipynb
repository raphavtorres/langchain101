{
 "cells": [
  {
   "cell_type": "code",
   "execution_count": 1,
   "metadata": {},
   "outputs": [
    {
     "data": {
      "text/plain": [
       "'Why did the scarecrow win an award?\\n\\nBecause he was outstanding in his field!'"
      ]
     },
     "execution_count": 1,
     "metadata": {},
     "output_type": "execute_result"
    }
   ],
   "source": [
    "from langchain_core.output_parsers import StrOutputParser\n",
    "from langchain_core.prompts import ChatPromptTemplate\n",
    "from langchain_openai import ChatOpenAI"
   ]
  },
  {
   "cell_type": "code",
   "execution_count": 3,
   "metadata": {},
   "outputs": [],
   "source": [
    "llm = ChatOpenAI(\n",
    "    model=\"gpt-4o-mini\",\n",
    "    temperature=0,\n",
    ")"
   ]
  },
  {
   "cell_type": "code",
   "execution_count": 2,
   "metadata": {},
   "outputs": [],
   "source": [
    "prompt = ChatPromptTemplate.from_template(\n",
    "  \"Crie uma lista com as atividades necessárias para produzir o seguinte produto: {product}\"\n",
    ")"
   ]
  },
  {
   "cell_type": "code",
   "execution_count": 14,
   "metadata": {},
   "outputs": [],
   "source": [
    "chain = prompt | llm | StrOutputParser()"
   ]
  },
  {
   "cell_type": "code",
   "execution_count": 15,
   "metadata": {},
   "outputs": [
    {
     "data": {
      "text/plain": [
       "'Produzir uma guitarra envolve várias etapas e atividades, desde o planejamento até a finalização do produto. Aqui está uma lista das principais atividades necessárias para a produção de uma guitarra:\\n\\n### 1. Planejamento e Design\\n- **Pesquisa de mercado**: Analisar tendências e preferências dos consumidores.\\n- **Definição do modelo**: Escolher o tipo de guitarra (elétrica, acústica, semi-acústica, etc.).\\n- **Desenho técnico**: Criar esboços e especificações detalhadas do design.\\n- **Escolha de materiais**: Selecionar madeiras, ferragens, captadores e acabamentos.\\n\\n### 2. Preparação dos Materiais\\n- **Aquisição de materiais**: Comprar madeiras, trastes, cordas, eletrônicos, etc.\\n- **Corte das madeiras**: Cortar as peças de madeira nas dimensões necessárias (corpo, braço, escala).\\n- **Tratamento da madeira**: Lixar e tratar a madeira para evitar deformações.\\n\\n### 3. Montagem do Corpo\\n- **Modelagem do corpo**: Esculpir e moldar o corpo da guitarra conforme o design.\\n- **Furação**: Fazer furos para trastes, captadores e ponte.\\n- **Colagem**: Colar as partes do corpo, se necessário.\\n\\n### 4. Montagem do Braço\\n- **Modelagem do braço**: Moldar o braço da guitarra e a escala.\\n- **Instalação dos trastes**: Cortar e instalar os trastes na escala.\\n- **Lixamento e acabamento**: Lixar e aplicar acabamento no braço.\\n\\n### 5. Montagem Final\\n- **União do corpo e do braço**: Fixar o braço ao corpo da guitarra.\\n- **Instalação dos captadores**: Colocar os captadores e conectar os fios.\\n- **Instalação da ponte**: Fixar a ponte e ajustar a altura das cordas.\\n- **Instalação dos controles**: Colocar potenciômetros, chaves e outros componentes eletrônicos.\\n\\n### 6. Acabamento\\n- **Lixamento final**: Lixar toda a guitarra para um acabamento suave.\\n- **Aplicação de verniz ou pintura**: Aplicar o acabamento desejado (verniz, tinta, etc.).\\n- **Secagem**: Deixar o acabamento secar completamente.\\n\\n### 7. Ajustes Finais\\n- **Afinação**: Afinar a guitarra e ajustar a altura das cordas.\\n- **Teste de som**: Testar a qualidade do som e fazer ajustes nos captadores e controles.\\n- **Inspeção final**: Verificar a qualidade geral e corrigir eventuais imperfeições.\\n\\n### 8. Embalagem e Distribuição\\n- **Embalagem**: Embalar a guitarra de forma segura para transporte.\\n- **Marketing e venda**: Criar estratégias de marketing e distribuir o produto para lojas ou clientes.\\n\\n### 9. Pós-venda\\n- **Suporte ao cliente**: Oferecer assistência e suporte para os clientes.\\n- **Garantia**: Estabelecer políticas de garantia e devolução.\\n\\nEssas atividades podem variar dependendo do tipo de guitarra e do processo de produção específico, mas essa lista fornece uma visão geral das etapas envolvidas na fabricação de uma guitarra.'"
      ]
     },
     "execution_count": 15,
     "metadata": {},
     "output_type": "execute_result"
    }
   ],
   "source": [
    "chain.invoke({\"product\": \"guitarra\"})"
   ]
  },
  {
   "cell_type": "code",
   "execution_count": 18,
   "metadata": {},
   "outputs": [
    {
     "data": {
      "text/plain": [
       "['Produzir uma guitarra envolve várias etapas e atividades, desde o planejamento até a finalização do produto. Aqui está uma lista das principais atividades necessárias para a produção de uma guitarra:\\n\\n### 1. Planejamento e Design\\n- **Pesquisa de mercado**: Analisar tendências e preferências dos consumidores.\\n- **Definição do modelo**: Escolher o tipo de guitarra (elétrica, acústica, semi-acústica, etc.).\\n- **Desenho técnico**: Criar esboços e especificações detalhadas do design.\\n- **Escolha de materiais**: Selecionar madeiras, ferragens, captadores e outros componentes.\\n\\n### 2. Preparação dos Materiais\\n- **Aquisição de materiais**: Comprar madeiras, cordas, eletrônicos, acabamentos, etc.\\n- **Corte das madeiras**: Cortar as peças de madeira nas dimensões necessárias (corpo, braço, escala).\\n- **Secagem da madeira**: Garantir que a madeira esteja devidamente seca para evitar deformações.\\n\\n### 3. Fabricação do Corpo\\n- **Modelagem do corpo**: Usar ferramentas para moldar o corpo da guitarra conforme o design.\\n- **Cavitação**: Fazer as cavidades para os captadores, controles e outros componentes.\\n- **Lixamento**: Lixar as superfícies para um acabamento suave.\\n\\n### 4. Fabricação do Braço\\n- **Modelagem do braço**: Moldar o braço da guitarra, incluindo a escala.\\n- **Instalação de trastes**: Cortar e instalar os trastes na escala.\\n- **Lixamento e acabamento**: Lixar e aplicar acabamento no braço.\\n\\n### 5. Montagem\\n- **União do corpo e do braço**: Fixar o braço ao corpo da guitarra.\\n- **Instalação de captadores**: Colocar os captadores nas cavidades.\\n- **Instalação de hardware**: Montar ponte, tarraxas, knobs e outros componentes.\\n\\n### 6. Acabamento\\n- **Pintura ou envernizamento**: Aplicar a camada de acabamento desejada (pintura, verniz, etc.).\\n- **Secagem**: Deixar o acabamento secar completamente.\\n- **Lixamento final**: Lixar suavemente para um toque suave.\\n\\n### 7. Ajustes Finais\\n- **Instalação das cordas**: Colocar as cordas na guitarra.\\n- **Ajuste da ação**: Regular a altura das cordas em relação à escala.\\n- **Ajuste do truss rod**: Ajustar a curvatura do braço, se necessário.\\n- **Teste de som**: Testar a guitarra para verificar a qualidade do som e fazer ajustes.\\n\\n### 8. Controle de Qualidade\\n- **Inspeção final**: Verificar todos os aspectos da guitarra, incluindo acabamento, montagem e som.\\n- **Correções**: Fazer ajustes ou correções conforme necessário.\\n\\n### 9. Embalagem e Distribuição\\n- **Embalagem**: Embalar a guitarra de forma segura para transporte.\\n- **Distribuição**: Organizar a entrega para lojas ou clientes.\\n\\n### 10. Marketing e Vendas\\n- **Promoção do produto**: Criar estratégias de marketing para promover a guitarra.\\n- **Venda**: Vender a guitarra em lojas físicas ou online.\\n\\nEssas etapas podem variar dependendo do tipo de guitarra e do processo de produção específico, mas essa lista fornece uma visão geral das atividades envolvidas na fabricação de uma guitarra.',\n",
       " 'Produzir uma frigideira envolve várias etapas, desde o planejamento até a entrega do produto final. Aqui está uma lista de atividades necessárias para a produção de uma frigideira:\\n\\n### 1. Pesquisa e Desenvolvimento\\n- **Análise de mercado**: Estudar as tendências e preferências dos consumidores.\\n- **Definição de especificações**: Determinar o material, tamanho, formato e características da frigideira (antiaderente, com revestimento, etc.).\\n- **Desenvolvimento de protótipos**: Criar modelos iniciais para testes.\\n\\n### 2. Planejamento da Produção\\n- **Elaboração do plano de produção**: Definir cronograma, recursos e etapas de produção.\\n- **Orçamento**: Estimar custos de materiais, mão de obra e outros recursos.\\n\\n### 3. Aquisição de Materiais\\n- **Seleção de fornecedores**: Escolher fornecedores de matérias-primas (metal, revestimentos, etc.).\\n- **Compra de materiais**: Adquirir os materiais necessários para a produção.\\n\\n### 4. Processos de Fabricação\\n- **Corte do material**: Cortar chapas de metal nas dimensões necessárias.\\n- **Moldagem**: Modelar o metal na forma da frigideira (por estampagem ou fundição).\\n- **Tratamento de superfície**: Aplicar revestimentos antiaderentes ou outros tratamentos.\\n- **Montagem**: Juntar as partes da frigideira, se necessário (cabo, etc.).\\n- **Inspeção de qualidade**: Verificar se as frigideiras atendem aos padrões de qualidade.\\n\\n### 5. Acabamento\\n- **Polimento e limpeza**: Garantir que a frigideira esteja livre de imperfeições e sujeira.\\n- **Embalagem**: Preparar as frigideiras para transporte, utilizando embalagens adequadas.\\n\\n### 6. Logística e Distribuição\\n- **Armazenamento**: Organizar as frigideiras em estoque.\\n- **Distribuição**: Planejar e executar a entrega para os pontos de venda ou clientes.\\n\\n### 7. Marketing e Vendas\\n- **Desenvolvimento de estratégias de marketing**: Criar campanhas para promover a frigideira.\\n- **Vendas**: Estabelecer canais de venda (lojas físicas, e-commerce, etc.).\\n\\n### 8. Atendimento ao Cliente\\n- **Suporte pós-venda**: Oferecer assistência ao cliente em caso de dúvidas ou problemas com o produto.\\n- **Coleta de feedback**: Recolher opiniões dos consumidores para melhorias futuras.\\n\\n### 9. Avaliação e Melhoria Contínua\\n- **Análise de desempenho**: Avaliar as vendas e a aceitação do produto no mercado.\\n- **Ajustes no processo**: Implementar melhorias com base no feedback e nas análises de desempenho.\\n\\nEssas atividades podem variar dependendo do tipo de frigideira (por exemplo, frigideira de ferro fundido, frigideira antiaderente, etc.) e do modelo de negócio da empresa.']"
      ]
     },
     "execution_count": 18,
     "metadata": {},
     "output_type": "execute_result"
    }
   ],
   "source": [
    "chain.batch([{\"product\": \"guitarra\"}, {\"product\": \"frigideira\"}])"
   ]
  }
 ],
 "metadata": {
  "kernelspec": {
   "display_name": "torreskernel",
   "language": "python",
   "name": "torreskernel"
  },
  "language_info": {
   "codemirror_mode": {
    "name": "ipython",
    "version": 3
   },
   "file_extension": ".py",
   "mimetype": "text/x-python",
   "name": "python",
   "nbconvert_exporter": "python",
   "pygments_lexer": "ipython3",
   "version": "3.10.12"
  }
 },
 "nbformat": 4,
 "nbformat_minor": 2
}
