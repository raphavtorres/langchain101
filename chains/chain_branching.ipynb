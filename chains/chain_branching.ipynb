{
 "cells": [
  {
   "cell_type": "code",
   "execution_count": 1,
   "metadata": {},
   "outputs": [],
   "source": [
    "from langchain_openai import ChatOpenAI\n",
    "\n",
    "llm = ChatOpenAI(\n",
    "  model=\"gpt-4o-mini\",\n",
    "  temperature=0,\n",
    ")"
   ]
  },
  {
   "cell_type": "code",
   "execution_count": 2,
   "metadata": {},
   "outputs": [],
   "source": [
    "from langchain_core.prompts import ChatPromptTemplate\n",
    "\n",
    "positive_feedback_template = ChatPromptTemplate.from_messages(\n",
    "  [\n",
    "    (\"system\", \"You are a helpful assistant.\"),\n",
    "    (\"human\", \"Generate a thank you note for this positive feedback: {feedback}.\"),\n",
    "  ]\n",
    ")"
   ]
  },
  {
   "cell_type": "code",
   "execution_count": 3,
   "metadata": {},
   "outputs": [],
   "source": [
    "negative_feedback_template = ChatPromptTemplate.from_messages(\n",
    "  [\n",
    "    (\"system\", \"You are a helpful assistant.\"),\n",
    "    (\"human\", \"Generate a response addressing this negative feedback: {feedback}.\"),\n",
    "  ]\n",
    ")"
   ]
  },
  {
   "cell_type": "code",
   "execution_count": 4,
   "metadata": {},
   "outputs": [],
   "source": [
    "neutral_feedback_template = ChatPromptTemplate.from_messages(\n",
    "  [\n",
    "    (\"system\", \"You are a helpful assistant.\"),\n",
    "    (\"human\", \"Generate a request for more details for this neutral feedback: {feedback}.\"),\n",
    "  ]\n",
    ")"
   ]
  },
  {
   "cell_type": "code",
   "execution_count": 6,
   "metadata": {},
   "outputs": [],
   "source": [
    "escalate_feedback_template = ChatPromptTemplate.from_messages(\n",
    "  [\n",
    "    (\"system\", \"You are a helpful assistant.\"),\n",
    "    (\"human\", \"Generate a message to escalate this feedback to a human agent: {feedback}\"),\n",
    "  ]\n",
    ")"
   ]
  },
  {
   "cell_type": "code",
   "execution_count": 7,
   "metadata": {},
   "outputs": [],
   "source": [
    "classification_template = ChatPromptTemplate.from_messages(\n",
    "  [\n",
    "    (\"system\", \"You are a helpful assistant.\"),\n",
    "    (\"human\", \"Classify the sentiment of this feedback as positive, negative, neutral, or escalate: {feedback}\"),\n",
    "  ]\n",
    ")"
   ]
  },
  {
   "cell_type": "code",
   "execution_count": 9,
   "metadata": {},
   "outputs": [],
   "source": [
    "from langchain_core.runnables import RunnableBranch\n",
    "from langchain_core.output_parsers import StrOutputParser\n",
    "\n",
    "branches = RunnableBranch(\n",
    "  (\n",
    "    lambda x: \"positive\" in x,\n",
    "    positive_feedback_template | llm | StrOutputParser()\n",
    "  ),\n",
    "  (\n",
    "    lambda x: \"negative\" in x,\n",
    "    negative_feedback_template | llm | StrOutputParser()\n",
    "  ),\n",
    "  (\n",
    "    lambda x: \"neutral\" in x,\n",
    "    neutral_feedback_template | llm | StrOutputParser()\n",
    "  ),\n",
    "  (\n",
    "    escalate_feedback_template | llm | StrOutputParser()\n",
    "  )\n",
    ")"
   ]
  },
  {
   "cell_type": "code",
   "execution_count": 10,
   "metadata": {},
   "outputs": [],
   "source": [
    "classification_chain = classification_template | llm | StrOutputParser()"
   ]
  },
  {
   "cell_type": "code",
   "execution_count": 11,
   "metadata": {},
   "outputs": [],
   "source": [
    "chain = classification_chain | branches"
   ]
  },
  {
   "cell_type": "code",
   "execution_count": 12,
   "metadata": {},
   "outputs": [],
   "source": [
    "review = \"The product is excellent. I really enjoyed using it and found it helpful.\""
   ]
  },
  {
   "cell_type": "code",
   "execution_count": 13,
   "metadata": {},
   "outputs": [
    {
     "name": "stdout",
     "output_type": "stream",
     "text": [
      "Dear [Recipient's Name],\n",
      "\n",
      "I hope this message finds you well! I wanted to take a moment to express my heartfelt thanks for your positive feedback. Your kind words truly made my day and reaffirmed the effort I put into my work.\n",
      "\n",
      "It’s always rewarding to know that my contributions are appreciated, and your encouragement inspires me to continue striving for excellence. Thank you once again for your support!\n",
      "\n",
      "Warm regards,\n",
      "\n",
      "[Your Name]\n"
     ]
    }
   ],
   "source": [
    "print(chain.invoke({\"feedback\": review}))"
   ]
  },
  {
   "cell_type": "code",
   "execution_count": null,
   "metadata": {},
   "outputs": [],
   "source": []
  }
 ],
 "metadata": {
  "kernelspec": {
   "display_name": "torreskernel",
   "language": "python",
   "name": "torreskernel"
  },
  "language_info": {
   "codemirror_mode": {
    "name": "ipython",
    "version": 3
   },
   "file_extension": ".py",
   "mimetype": "text/x-python",
   "name": "python",
   "nbconvert_exporter": "python",
   "pygments_lexer": "ipython3",
   "version": "3.10.12"
  }
 },
 "nbformat": 4,
 "nbformat_minor": 2
}
